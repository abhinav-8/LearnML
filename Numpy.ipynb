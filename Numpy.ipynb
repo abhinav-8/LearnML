{
 "cells": [
  {
   "cell_type": "code",
   "execution_count": 152,
   "id": "d40eca84",
   "metadata": {},
   "outputs": [],
   "source": [
    " import numpy as np"
   ]
  },
  {
   "cell_type": "code",
   "execution_count": 153,
   "id": "49261ad6",
   "metadata": {},
   "outputs": [
    {
     "name": "stdout",
     "output_type": "stream",
     "text": [
      "[1 2 3 4 5]\n",
      "<class 'numpy.ndarray'>\n",
      "(5,)\n"
     ]
    }
   ],
   "source": [
    "a=np.array([1,2,3,4,5])\n",
    "print(a)\n",
    "print(type(a))\n",
    "\n",
    "print(a.shape)"
   ]
  },
  {
   "cell_type": "code",
   "execution_count": 154,
   "id": "a838d74c",
   "metadata": {},
   "outputs": [
    {
     "name": "stdout",
     "output_type": "stream",
     "text": [
      "[[1]\n",
      " [2]\n",
      " [3]\n",
      " [4]\n",
      " [5]]\n",
      "(5, 1)\n"
     ]
    }
   ],
   "source": [
    "b=np.array([[1],[2],[3],[4],[5]])\n",
    "print(b)\n",
    "print(b.shape)"
   ]
  },
  {
   "cell_type": "code",
   "execution_count": 155,
   "id": "f843f92d",
   "metadata": {},
   "outputs": [
    {
     "name": "stdout",
     "output_type": "stream",
     "text": [
      "[[1 2 3]\n",
      " [4 5 6]]\n",
      "(2, 3)\n"
     ]
    }
   ],
   "source": [
    "c = np.array([[1,2,3],[4,5,6]])\n",
    "print(c)\n",
    "print(c.shape)"
   ]
  },
  {
   "cell_type": "code",
   "execution_count": 156,
   "id": "7c15e9c7",
   "metadata": {},
   "outputs": [
    {
     "name": "stdout",
     "output_type": "stream",
     "text": [
      "[[0. 0. 0.]\n",
      " [0. 0. 0.]\n",
      " [0. 0. 0.]]\n",
      "[[1. 1. 1.]\n",
      " [1. 1. 1.]]\n",
      "[[5 5]\n",
      " [5 5]\n",
      " [5 5]]\n",
      "[[1. 0. 0. 0.]\n",
      " [0. 1. 0. 0.]\n",
      " [0. 0. 1. 0.]\n",
      " [0. 0. 0. 1.]]\n",
      "[[0.31342418 0.69232262 0.87638915]\n",
      " [0.89460666 0.08504421 0.03905478]]\n"
     ]
    }
   ],
   "source": [
    "# Create Zeros ,Ones ,Custom array\n",
    "a=np.zeros((3,3))\n",
    "print(a)\n",
    "\n",
    "b=np.ones((2,3))\n",
    "print(b)\n",
    "\n",
    "#Array of some constants\n",
    "c= np.full((3,2),5)\n",
    "print(c)\n",
    "\n",
    "#Identity Matrix\n",
    "d=np.eye(4)\n",
    "print(d)\n",
    "\n",
    "#Random Matrix\n",
    "randomMatrix =np.random.random((2,3))\n",
    "print(randomMatrix)"
   ]
  },
  {
   "cell_type": "code",
   "execution_count": 157,
   "id": "aa3eca77",
   "metadata": {},
   "outputs": [
    {
     "name": "stdout",
     "output_type": "stream",
     "text": [
      "[0.87638915 0.03905478]\n"
     ]
    }
   ],
   "source": [
    "print(randomMatrix[:,2])  #Slicing"
   ]
  },
  {
   "cell_type": "code",
   "execution_count": 158,
   "id": "de40d7f7",
   "metadata": {},
   "outputs": [
    {
     "name": "stdout",
     "output_type": "stream",
     "text": [
      "[[0.31342418 0.69232262 0.87638915]\n",
      " [0.89460666 1.         1.        ]]\n"
     ]
    }
   ],
   "source": [
    "randomMatrix[1,1:]=1\n",
    "print(randomMatrix)"
   ]
  },
  {
   "cell_type": "code",
   "execution_count": 159,
   "id": "73fe2740",
   "metadata": {},
   "outputs": [
    {
     "name": "stdout",
     "output_type": "stream",
     "text": [
      "[[0 0 0]\n",
      " [0 0 0]\n",
      " [0 0 0]]\n",
      "[[0 0 7]\n",
      " [5 5 7]\n",
      " [0 0 7]]\n"
     ]
    }
   ],
   "source": [
    "### Set some rows and columns with any values\n",
    "z=np.zeros((3,3),dtype=np.int64)  #by default it's float\n",
    "print(z)\n",
    "z[1,:]=5\n",
    "z[:,-1]=7\n",
    "print(z)\n"
   ]
  },
  {
   "cell_type": "code",
   "execution_count": 160,
   "id": "c9f1a3a1",
   "metadata": {},
   "outputs": [
    {
     "name": "stdout",
     "output_type": "stream",
     "text": [
      "int64\n"
     ]
    }
   ],
   "source": [
    "#Datatypes\n",
    "print(z.dtype)"
   ]
  },
  {
   "cell_type": "code",
   "execution_count": 161,
   "id": "988327f9",
   "metadata": {},
   "outputs": [
    {
     "name": "stdout",
     "output_type": "stream",
     "text": [
      "[[ 6  8]\n",
      " [10 12]]\n",
      "[[ 6  8]\n",
      " [10 12]]\n",
      "[[-4 -4]\n",
      " [-4 -4]]\n",
      "[[-4 -4]\n",
      " [-4 -4]]\n"
     ]
    }
   ],
   "source": [
    "#MAthematical Operations\n",
    "\n",
    "x=np.array([[1,2],[3,4]])\n",
    "y=np.array([[5,6],[7,8]])\n",
    "\n",
    "#Element wise Addition/Subtraction\n",
    "print(x+y)\n",
    "print(np.add(x,y))\n",
    "print(x-y)\n",
    "print(np.subtract(x,y))"
   ]
  },
  {
   "cell_type": "code",
   "execution_count": 162,
   "id": "77bcecbc",
   "metadata": {},
   "outputs": [
    {
     "name": "stdout",
     "output_type": "stream",
     "text": [
      "[[ 5 12]\n",
      " [21 32]]\n",
      "[[ 5 12]\n",
      " [21 32]]\n",
      "[[0.2        0.33333333]\n",
      " [0.42857143 0.5       ]]\n",
      "[[0.2        0.33333333]\n",
      " [0.42857143 0.5       ]]\n",
      "[[1.         1.41421356]\n",
      " [1.73205081 2.        ]]\n"
     ]
    }
   ],
   "source": [
    "#Element wise Multiplication/Division\n",
    "print(x*y)\n",
    "print(np.multiply(x,y))\n",
    "print(x/y)\n",
    "print(np.divide(x,y))\n",
    "print(np.sqrt(x))"
   ]
  },
  {
   "cell_type": "code",
   "execution_count": 163,
   "id": "ace57bb4",
   "metadata": {},
   "outputs": [
    {
     "name": "stdout",
     "output_type": "stream",
     "text": [
      "[[1 2]\n",
      " [3 4]]\n",
      "[[5 6]\n",
      " [7 8]]\n",
      "[[19 22]\n",
      " [43 50]]\n",
      "[[19 22]\n",
      " [43 50]]\n"
     ]
    }
   ],
   "source": [
    "# Matrix Multiplication and Dot Products\n",
    "print(x)\n",
    "print(y)\n",
    "\n",
    "print(x.dot(y))\n",
    "print(np.dot(x,y))"
   ]
  },
  {
   "cell_type": "code",
   "execution_count": 164,
   "id": "2e9a1271",
   "metadata": {},
   "outputs": [
    {
     "name": "stdout",
     "output_type": "stream",
     "text": [
      "40\n"
     ]
    }
   ],
   "source": [
    "#Multiplication of Vectors => Scalar\n",
    "a=np.array([1,2,3,4])\n",
    "b=np.array([2,3,4,5])\n",
    "print(np.dot(a,b))"
   ]
  },
  {
   "cell_type": "code",
   "execution_count": 165,
   "id": "2e9803d0",
   "metadata": {},
   "outputs": [
    {
     "name": "stdout",
     "output_type": "stream",
     "text": [
      "[1 2 3 4]\n"
     ]
    }
   ],
   "source": [
    "print(a)"
   ]
  },
  {
   "cell_type": "code",
   "execution_count": 166,
   "id": "5f3506ba",
   "metadata": {},
   "outputs": [
    {
     "name": "stdout",
     "output_type": "stream",
     "text": [
      "10\n"
     ]
    }
   ],
   "source": [
    "print(sum(a))"
   ]
  },
  {
   "cell_type": "code",
   "execution_count": 167,
   "id": "3740600a",
   "metadata": {},
   "outputs": [
    {
     "name": "stdout",
     "output_type": "stream",
     "text": [
      "[[1 2]\n",
      " [3 4]]\n"
     ]
    }
   ],
   "source": [
    "print(x)"
   ]
  },
  {
   "cell_type": "code",
   "execution_count": 168,
   "id": "15e440e7",
   "metadata": {},
   "outputs": [
    {
     "name": "stdout",
     "output_type": "stream",
     "text": [
      "10\n",
      "[4 6]\n"
     ]
    }
   ],
   "source": [
    "print(np.sum(x))\n",
    "print(np.sum(x,axis=0))  #axis=0 =>along the column(vertical)   "
   ]
  },
  {
   "cell_type": "code",
   "execution_count": 169,
   "id": "8fcdc9cb",
   "metadata": {},
   "outputs": [
    {
     "name": "stdout",
     "output_type": "stream",
     "text": [
      "[3 7]\n"
     ]
    }
   ],
   "source": [
    "print(np.sum(x,axis=1))    #axis=1  =>along row(horizontal)"
   ]
  },
  {
   "cell_type": "code",
   "execution_count": 170,
   "id": "f793f144",
   "metadata": {},
   "outputs": [
    {
     "name": "stdout",
     "output_type": "stream",
     "text": [
      "[1 2 3 4]\n",
      "[ 4  9 16 25]\n"
     ]
    }
   ],
   "source": [
    "#Stacking of array\n",
    "print(a)\n",
    "b=b**2\n",
    "print(b)"
   ]
  },
  {
   "cell_type": "code",
   "execution_count": 171,
   "id": "0fd1c2b0",
   "metadata": {},
   "outputs": [],
   "source": [
    "lol=np.stack((a,b),axis=0)  #concatenate both the arrays"
   ]
  },
  {
   "cell_type": "code",
   "execution_count": 172,
   "id": "248a6ee0",
   "metadata": {},
   "outputs": [
    {
     "name": "stdout",
     "output_type": "stream",
     "text": [
      "[[ 1  2  3  4]\n",
      " [ 4  9 16 25]]\n"
     ]
    }
   ],
   "source": [
    "print(lol)    "
   ]
  },
  {
   "cell_type": "code",
   "execution_count": 173,
   "id": "898dc185",
   "metadata": {},
   "outputs": [
    {
     "name": "stdout",
     "output_type": "stream",
     "text": [
      "[[ 1]\n",
      " [ 2]\n",
      " [ 3]\n",
      " [ 4]\n",
      " [ 4]\n",
      " [ 9]\n",
      " [16]\n",
      " [25]]\n",
      "[ 1  2  3  4  4  9 16 25]\n",
      "[[ 1  2  3  4]\n",
      " [ 4  9 16 25]]\n"
     ]
    }
   ],
   "source": [
    "#Reshape a Numpy Array\n",
    "lol=lol.reshape((8,1))\n",
    "print(lol)\n",
    "lol=lol.reshape((8,))\n",
    "print(lol)\n",
    "lol=lol.reshape((-1,4))\n",
    "print(lol)\n"
   ]
  },
  {
   "cell_type": "code",
   "execution_count": 212,
   "id": "e4d4f0c9",
   "metadata": {},
   "outputs": [
    {
     "name": "stdout",
     "output_type": "stream",
     "text": [
      "[0 1 2 3 4 5 6 7 8 9]\n",
      "[ 5  6  7  8  9 10 11 12 13 14]\n",
      "[1 3 5 7 9]\n"
     ]
    }
   ],
   "source": [
    "#Important one\n",
    "a=np.arange(10) \n",
    "print(a)\n",
    "a=np.arange(10)+5\n",
    "print(a)\n",
    "check=np.arange(10,step=2)+1\n",
    "print(check)"
   ]
  },
  {
   "cell_type": "markdown",
   "id": "b58f12ef",
   "metadata": {},
   "source": [
    "# Numpy Random Module\n",
    "\n",
    "   - rand : random values in a given shape\n",
    "   \n",
    "   - randn : Return a sample from \"standard normal\" distribution\n",
    "   \n",
    "   - randint : Return random integers from low(inclusive) to high (exclusive)\n",
    "   \n",
    "   - random_sample:  return random floats in the half-open interval [0.0 , 1.0)\n",
    " \n",
    "   - choice: generates a random sample from a given 1-D array\n",
    "   \n",
    "   - Shuffle: shuffles the contents of a sequence\n",
    "   \n",
    "   \n",
    "   "
   ]
  },
  {
   "cell_type": "code",
   "execution_count": 183,
   "id": "902232e8",
   "metadata": {},
   "outputs": [
    {
     "name": "stdout",
     "output_type": "stream",
     "text": [
      "[5 6 9 6 6 6 6 7]\n"
     ]
    }
   ],
   "source": [
    "np.random.seed(1)\n",
    "np.random.shuffle(a)\n",
    "print(a)"
   ]
  },
  {
   "cell_type": "code",
   "execution_count": 184,
   "id": "776c4399",
   "metadata": {},
   "outputs": [
    {
     "name": "stdout",
     "output_type": "stream",
     "text": [
      "[[-1.601721   -1.47782957  0.48349585]\n",
      " [ 0.18843661 -0.46468632  0.86182712]]\n",
      "[9 8 9 7 9 7 9 6]\n"
     ]
    }
   ],
   "source": [
    "#Return values from a Standard Normal Distribution\n",
    "a=np.random.randn(2,3)\n",
    "print(a)\n",
    "\n",
    "a=np.random.randint(5,10,8)  # 8 random numbers between 5 and 10(exclusive)\n",
    "print(a)"
   ]
  },
  {
   "cell_type": "code",
   "execution_count": 185,
   "id": "6cd61163",
   "metadata": {},
   "outputs": [
    {
     "name": "stdout",
     "output_type": "stream",
     "text": [
      "4\n"
     ]
    }
   ],
   "source": [
    "#Randomly Pick one element from a array\n",
    "element = np.random.choice([1,4,3,2,11,27])\n",
    "print(element)"
   ]
  },
  {
   "cell_type": "code",
   "execution_count": 211,
   "id": "d6e8294a",
   "metadata": {},
   "outputs": [
    {
     "name": "stdout",
     "output_type": "stream",
     "text": [
      "[[0.29361415 0.28777534 0.13002857 0.01936696 0.67883553]]\n",
      "[[-5.36511565 -5.20336002 -4.52528052 -5.83991236 -4.27764718 -5.55981428\n",
      "  -4.23208339]]\n"
     ]
    }
   ],
   "source": [
    "print(np.random.random_sample((1,5)))\n",
    "print(3*np.random.random_sample((1,7)) - 6)\n"
   ]
  },
  {
   "cell_type": "markdown",
   "id": "9f424960",
   "metadata": {},
   "source": [
    "# Some More Numpy Functions - Statistics\n",
    "- min,max\n",
    "- mean\n",
    "- median\n",
    "- average\n",
    "- variance\n",
    "- standard deviation"
   ]
  },
  {
   "cell_type": "code",
   "execution_count": 193,
   "id": "d757ed79",
   "metadata": {},
   "outputs": [
    {
     "name": "stdout",
     "output_type": "stream",
     "text": [
      "[[1 2 3 4]\n",
      " [7 6 2 0]]\n",
      "0\n",
      "[1 2 2 0]\n",
      "[1 0]\n"
     ]
    }
   ],
   "source": [
    "a=np.array([[1,2,3,4],[7,6,2,0]])\n",
    "print(a)\n",
    "print(np.min(a))\n",
    "\n",
    "#Specify axis for the direction in case of multi dimensional array\n",
    "\n",
    "print(np.min(a,axis=0))\n",
    "print(np.min(a,axis=1))\n",
    "\n"
   ]
  },
  {
   "cell_type": "code",
   "execution_count": 194,
   "id": "f0f926d1",
   "metadata": {
    "scrolled": true
   },
   "outputs": [
    {
     "name": "stdout",
     "output_type": "stream",
     "text": [
      "3.0\n",
      "3.0\n",
      "[4.  4.  2.5 2. ]\n",
      "[2.5  3.75]\n"
     ]
    }
   ],
   "source": [
    "#Mean, average of all the elements\n",
    "\n",
    "b=np.array([1,2,3,4,5])\n",
    "m=sum(b)/5\n",
    "print(m)\n",
    "\n",
    "print(np.mean(b))\n",
    "print(np.mean(a,axis=0))\n",
    "print(np.mean(a,axis=1))"
   ]
  },
  {
   "cell_type": "code",
   "execution_count": 199,
   "id": "a39e738b",
   "metadata": {},
   "outputs": [
    {
     "name": "stdout",
     "output_type": "stream",
     "text": [
      "2.0\n",
      "2.4\n",
      "2.066666666666667\n",
      "1.854723699099141\n",
      "1.854723699099141\n",
      "3.440000000000001\n",
      "3.4400000000000004\n"
     ]
    }
   ],
   "source": [
    "c=np.array([1,5,4,2,0])\n",
    "print(np.median(c))\n",
    "\n",
    "#Mean vs Average(it is weighted)\n",
    "print(np.mean(c))\n",
    "\n",
    "#Weights\n",
    "w = np.array([1,2,3,4,5])\n",
    "print(np.average(c,weights=w)) #(1*1 + 5*2 +4*3 +2*4 + 0*5)/5\n",
    "\n",
    "#Standard Deviation\n",
    "\n",
    "#Manual Implementation\n",
    "u=np.mean(c)\n",
    "my_std = np.sqrt(np.mean(abs(c-u)**2))\n",
    "print(my_std)\n",
    "\n",
    "#inbuilt Function\n",
    "print(np.std(c))\n",
    "\n",
    "#Variance\n",
    "print(my_std**2)  \n",
    "print(np.var(c))"
   ]
  },
  {
   "cell_type": "code",
   "execution_count": 201,
   "id": "9cd61b3f",
   "metadata": {},
   "outputs": [
    {
     "data": {
      "text/plain": [
       "array([ 1.   ,  1.375,  1.75 ,  2.125,  2.5  ,  2.875,  3.25 ,  3.625,\n",
       "        4.   ,  4.375,  4.75 ,  5.125,  5.5  ,  5.875,  6.25 ,  6.625,\n",
       "        7.   ,  7.375,  7.75 ,  8.125,  8.5  ,  8.875,  9.25 ,  9.625,\n",
       "       10.   ])"
      ]
     },
     "execution_count": 201,
     "metadata": {},
     "output_type": "execute_result"
    }
   ],
   "source": [
    "np.linspace(1,10,25)"
   ]
  },
  {
   "cell_type": "code",
   "execution_count": 206,
   "id": "bbd3b0cb",
   "metadata": {},
   "outputs": [
    {
     "name": "stdout",
     "output_type": "stream",
     "text": [
      "[ True False False False  True]\n",
      "[1 0]\n"
     ]
    }
   ],
   "source": [
    "#Some conditions useful in EDA\n",
    "val=2\n",
    "\n",
    "print(c<val) #Prints the boolean indexwise\n",
    "\n",
    "print(c[c<val]) #Prints the indexes which satisfies the condition"
   ]
  },
  {
   "cell_type": "code",
   "execution_count": 207,
   "id": "6be2fa5b",
   "metadata": {},
   "outputs": [
    {
     "name": "stdout",
     "output_type": "stream",
     "text": [
      "[[1 1 1 1 1]\n",
      " [1 1 1 1 1]]\n"
     ]
    }
   ],
   "source": [
    "d=np.ones((2,5),dtype=int)\n",
    "print(d)"
   ]
  },
  {
   "cell_type": "code",
   "execution_count": null,
   "id": "2437954a",
   "metadata": {},
   "outputs": [],
   "source": []
  }
 ],
 "metadata": {
  "kernelspec": {
   "display_name": "Python 3",
   "language": "python",
   "name": "python3"
  },
  "language_info": {
   "codemirror_mode": {
    "name": "ipython",
    "version": 3
   },
   "file_extension": ".py",
   "mimetype": "text/x-python",
   "name": "python",
   "nbconvert_exporter": "python",
   "pygments_lexer": "ipython3",
   "version": "3.8.8"
  }
 },
 "nbformat": 4,
 "nbformat_minor": 5
}
